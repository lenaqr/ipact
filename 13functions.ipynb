{
 "cells": [
  {
   "cell_type": "markdown",
   "metadata": {},
   "source": [
    "# Lesson: Functions\n",
    "\n",
    "As usual, let's start with our imports:"
   ]
  },
  {
   "cell_type": "code",
   "execution_count": 1,
   "metadata": {
    "collapsed": false
   },
   "outputs": [
    {
     "name": "stderr",
     "output_type": "stream",
     "text": [
      "/opt/conda/lib/python3.5/site-packages/IPython/html.py:14: ShimWarning: The `IPython.html` package has been deprecated. You should import from `notebook` instead. `IPython.html.widgets` has moved to `ipywidgets`.\n",
      "  \"`IPython.html.widgets` has moved to `ipywidgets`.\", ShimWarning)\n"
     ]
    }
   ],
   "source": [
    "import matplotlib.pyplot as plt\n",
    "import seaborn\n",
    "import numpy as np\n",
    "%matplotlib inline"
   ]
  },
  {
   "cell_type": "markdown",
   "metadata": {},
   "source": [
    "## Functions\n",
    "Functions are an essential part of a programming language.\n",
    "You already used many functions like `plot` or `array`.\n",
    "But you can also define your own functions.\n",
    "To define a new function, use the `def` command. After `def` follows the name of the function and then between parentheses the arguments of the function and finally a colon. After the colon you indent until you are done with the function. The last line of the function should be `return` followed by what you want to return. For example, consider the following function of $x$:\n",
    "\n",
    "$f(x)= 2x+1 \\qquad x < 1$\n",
    "\n",
    "$f(x) = 4x-x^2 \\qquad x \\ge 1$\n",
    "\n",
    "Let's implement $f(x)$ in a function called `func`. There is one input argument: $x$. "
   ]
  },
  {
   "cell_type": "code",
   "execution_count": 2,
   "metadata": {
    "collapsed": false
   },
   "outputs": [
    {
     "name": "stdout",
     "output_type": "stream",
     "text": [
      "3\n"
     ]
    }
   ],
   "source": [
    "def func(x):\n",
    "    if x < 1:\n",
    "        f = 2*x+1\n",
    "    else:\n",
    "        f = 4*x-x**2\n",
    "    return f\n",
    "print(func(3))"
   ]
  },
  {
   "cell_type": "markdown",
   "metadata": {},
   "source": [
    "Once you define a function in Python, you can call it whenever you want during the session. So we can call it again"
   ]
  },
  {
   "cell_type": "code",
   "execution_count": 3,
   "metadata": {
    "collapsed": false
   },
   "outputs": [
    {
     "name": "stdout",
     "output_type": "stream",
     "text": [
      "-3\n"
     ]
    }
   ],
   "source": [
    "print(func(-2))"
   ]
  },
  {
   "cell_type": "markdown",
   "metadata": {},
   "source": [
    "Note that once you have defined the function, typing \n",
    "\n",
    "`func(` and then hit [shift-tab]\n",
    "\n",
    "and waiting a moment will provide you with the input arguments of the function in a little pop-up window. That is not very interesting for this case, as the input argument is only $x$, but is very helpful when there are multiple input arguments."
   ]
  },
  {
   "cell_type": "markdown",
   "metadata": {},
   "source": [
    "The names of the arguments of a function are the names used inside the function. They have no relationship to the names used outside the function. When using a variable as the argument of a function, only the *values* get passed to the function. In the example below, the *value* of `y` is passed as the first argument ot the function `func`. Inside the function, this value is used for the variable `x`."
   ]
  },
  {
   "cell_type": "code",
   "execution_count": 4,
   "metadata": {
    "collapsed": false
   },
   "outputs": [
    {
     "name": "stdout",
     "output_type": "stream",
     "text": [
      "func(2): 4\n"
     ]
    }
   ],
   "source": [
    "y = 2\n",
    "print('func(2):',func(y))"
   ]
  },
  {
   "cell_type": "markdown",
   "metadata": {},
   "source": [
    "### Exercise 1. <a name=\"back1\"></a>First function\n",
    "Write a Python function for the following function:\n",
    "\n",
    "$f(x)=x/(cx^2+1)$\n",
    "\n",
    "The function should take `x` and `c` as input arguments and return the function value. Give your function a unique name (if you also call it `func` it will overwrite the `func` function that we defined above). Make a plot of `f` vs. `x` for `x` going from -10 to 10 using two different values of `c`: 0.1 and 0.2."
   ]
  },
  {
   "cell_type": "code",
   "execution_count": null,
   "metadata": {
    "collapsed": false
   },
   "outputs": [],
   "source": []
  },
  {
   "cell_type": "markdown",
   "metadata": {},
   "source": [
    "<a href=\"#ex1answer\">Answer to Exercise 1</a>"
   ]
  },
  {
   "cell_type": "markdown",
   "metadata": {},
   "source": [
    "## Local variables\n",
    "Variables declared inside a function can only be used inside that function. The outside of a function doesn't know about the variables used inside the function, except for the variables that are returned by the function. In the code below, remove the `#` before `print a` and you will get an error message, as `a` is a local variable inside function `localtest` only (then put the `#` back, else you cannot run your entire Notebook anymore with the Cell $\\to$ Run All menu command)."
   ]
  },
  {
   "cell_type": "code",
   "execution_count": 5,
   "metadata": {
    "collapsed": false
   },
   "outputs": [
    {
     "name": "stdout",
     "output_type": "stream",
     "text": [
      "17\n"
     ]
    }
   ],
   "source": [
    "def localtest(x):\n",
    "    a = 3\n",
    "    b = 5\n",
    "    return a*x + b\n",
    "print(localtest(4))\n",
    "# print(a)  # Will cause an error, as 'a' is not known outside function "
   ]
  },
  {
   "cell_type": "markdown",
   "metadata": {},
   "source": [
    "## Functions are building blocks that need to be tested separately\n",
    "Functions are the building blocks of a computer code. They represent a well defined functionality, which means they can *and should* be tested separately. So make it a habit to test whether your function does what you intended it to do. Sometimes it is easy to test a function: you can compare the value to a hand calculation, for example. Other times it is more difficult, and you need to write some additional code to test the function. It is always worthwhile to do that. If you test your functions well, it will aid you in debugging your code, because you know that the error is not inside the function."
   ]
  },
  {
   "cell_type": "markdown",
   "metadata": {},
   "source": [
    "## Using a function as the argument of another function\n",
    "So far, we have used single values or arrays as input arguments of functions. But we can also use a function as one of the input arguments of another function. Consider, for example, a function called `takesquare` that takes two input arguments: a function `finput` and a value `x`, and it returns the function `finput` evaluated at `x` and then squared."
   ]
  },
  {
   "cell_type": "code",
   "execution_count": 6,
   "metadata": {
    "collapsed": false
   },
   "outputs": [],
   "source": [
    "def takesquare(finput, x):\n",
    "    return finput(x) ** 2"
   ]
  },
  {
   "cell_type": "markdown",
   "metadata": {},
   "source": [
    "We can now call `takesquare` with any function $f$ that can be called as $f(x)$ and returns one value. For example, we can call it with the square-root function, and we can test right away whether we got the right answer"
   ]
  },
  {
   "cell_type": "code",
   "execution_count": 7,
   "metadata": {
    "collapsed": false
   },
   "outputs": [
    {
     "name": "stdout",
     "output_type": "stream",
     "text": [
      "takesquare result: 2.0\n",
      "correct value is:  2.0\n"
     ]
    }
   ],
   "source": [
    "print('takesquare result:', takesquare(np.sqrt, 2))\n",
    "print('correct value is: ', np.sqrt(2) ** 2)"
   ]
  },
  {
   "cell_type": "markdown",
   "metadata": {},
   "source": [
    "## Finding the zero of a function\n",
    "Finding the zero of a function is a common task in exploratory computing. The value where the function equals zero is also called the *root* and finding the zero is referred to as *root finding*. There exist a number of methods to find the zero of a function varying from robust but slow (so it always finds a zero but it takes quite a few function evaluations) to fast but not so robust (it can find the zero very fast, but it won't always find it). Here we'll use the latter one.\n",
    "\n",
    "Consider the function $f(x)=2x+1$. The function is zero when $x=-0.5$, but let's pretend we don't know that and try to find it using a root finding method. First, we need to write a Python function for $f(x)$."
   ]
  },
  {
   "cell_type": "code",
   "execution_count": 8,
   "metadata": {
    "collapsed": false
   },
   "outputs": [],
   "source": [
    "def f(x):\n",
    "    return 2*x+1"
   ]
  },
  {
   "cell_type": "markdown",
   "metadata": {},
   "source": [
    "We will use the method `fsolve` to find the zero of a function. `fsolve` is part of the `scipy.optimize` package. `fsolve` takes two arguments: the function for which we want to find the zero, and a starting value for the search (not surpisingly, the closer the starting value is to the root, the higher the chance that `fsolve` will find it)."
   ]
  },
  {
   "cell_type": "code",
   "execution_count": 9,
   "metadata": {
    "collapsed": false
   },
   "outputs": [
    {
     "name": "stdout",
     "output_type": "stream",
     "text": [
      "result of fsolve: [-0.5]\n",
      "f(x) at xzero:    [ 0.]\n"
     ]
    }
   ],
   "source": [
    "from scipy.optimize import fsolve\n",
    "xzero = fsolve(f,1)\n",
    "print('result of fsolve:', xzero)\n",
    "print('f(x) at xzero:   ', f(xzero))"
   ]
  },
  {
   "cell_type": "markdown",
   "metadata": {},
   "source": [
    "### Exercise <a name=\"back2\"></a>2\n",
    "\n",
    "Use `fsolve` to find a zero of the function `func` you defined at the beginning of this notebook. Does the answer depend on the initial guess that you provide?"
   ]
  },
  {
   "cell_type": "code",
   "execution_count": null,
   "metadata": {
    "collapsed": true
   },
   "outputs": [],
   "source": []
  },
  {
   "cell_type": "markdown",
   "metadata": {},
   "source": [
    "<a href=\"#ex2answer\">Answer to Exercise 2</a>"
   ]
  },
  {
   "cell_type": "markdown",
   "metadata": {},
   "source": [
    "### Exercise 3\n",
    "\n",
    "Can you use `fsolve` to find the square root of 1369 (that is, a value of $x$ such that $x^2$ = 1369)? Once you find the answer, verify that squaring it indeed gives you back 1369."
   ]
  },
  {
   "cell_type": "code",
   "execution_count": null,
   "metadata": {
    "collapsed": true
   },
   "outputs": [],
   "source": []
  },
  {
   "cell_type": "markdown",
   "metadata": {},
   "source": [
    "<a href=\"#ex3answer\">Answer to Exercise 3</a>"
   ]
  },
  {
   "cell_type": "markdown",
   "metadata": {},
   "source": [
    "## Answers to the exercises"
   ]
  },
  {
   "cell_type": "markdown",
   "metadata": {},
   "source": [
    "<a name=\"ex1answer\">Answer to Exercise 1</a>"
   ]
  },
  {
   "cell_type": "code",
   "execution_count": 10,
   "metadata": {
    "collapsed": false
   },
   "outputs": [
    {
     "data": {
      "text/plain": [
       "<matplotlib.legend.Legend at 0x7f55f2cc2518>"
      ]
     },
     "execution_count": 10,
     "metadata": {},
     "output_type": "execute_result"
    },
    {
     "data": {
      "image/png": "[encoded data removed]",
      "text/plain": [
       "<matplotlib.figure.Figure at 0x7f5620221dd8>"
      ]
     },
     "metadata": {},
     "output_type": "display_data"
    }
   ],
   "source": [
    "def test(x, c):\n",
    "    return x / (c * x**2 + 1)\n",
    "x = np.linspace(-10, 10, 100)\n",
    "y1 = test(x, 0.1)  # This function can be called with an array\n",
    "y2 = test(x, 0.2)\n",
    "plt.plot(x, y1, label='c = 0.1') # if you specify a label, it will automatically be used in the legend\n",
    "plt.plot(x, y2, label='c = 0.2')\n",
    "\n",
    "plt.xlabel('x')\n",
    "plt.ylabel('f(x)')\n",
    "plt.legend()"
   ]
  },
  {
   "cell_type": "markdown",
   "metadata": {},
   "source": [
    " <a href=\"#back1\">Back to Exercise 1</a>"
   ]
  },
  {
   "cell_type": "markdown",
   "metadata": {},
   "source": [
    "<a name=\"ex2answer\">Answer to Exercise 2</a>"
   ]
  },
  {
   "cell_type": "markdown",
   "metadata": {},
   "source": [
    "There are two places where the function is zero; you can find them both by providing different initial guesses:"
   ]
  },
  {
   "cell_type": "code",
   "execution_count": 11,
   "metadata": {
    "collapsed": false
   },
   "outputs": [
    {
     "name": "stdout",
     "output_type": "stream",
     "text": [
      "result of fsolve: [-0.5]\n",
      "f(x) at xzero:    [ 0.]\n"
     ]
    }
   ],
   "source": [
    "xzero = fsolve(func, 1)\n",
    "print('result of fsolve:', xzero)\n",
    "print('f(x) at xzero:   ', func(xzero))"
   ]
  },
  {
   "cell_type": "code",
   "execution_count": 12,
   "metadata": {
    "collapsed": false
   },
   "outputs": [
    {
     "name": "stdout",
     "output_type": "stream",
     "text": [
      "result of fsolve: [ 4.]\n",
      "f(x) at xzero:    [ 0.]\n"
     ]
    }
   ],
   "source": [
    "xzero = fsolve(func, 10)\n",
    "print('result of fsolve:', xzero)\n",
    "print('f(x) at xzero:   ', func(xzero))"
   ]
  },
  {
   "cell_type": "markdown",
   "metadata": {},
   "source": [
    " <a href=\"#back2\">Back to Exercise 2</a>"
   ]
  },
  {
   "cell_type": "markdown",
   "metadata": {},
   "source": [
    "<a name=\"ex3answer\">Answer to Exercise 3</a>"
   ]
  },
  {
   "cell_type": "markdown",
   "metadata": {},
   "source": [
    "Finding a square root of 1369 is the same as solving for the zero of $f(x) = x^2 - 1369$."
   ]
  },
  {
   "cell_type": "code",
   "execution_count": 13,
   "metadata": {
    "collapsed": false
   },
   "outputs": [
    {
     "name": "stdout",
     "output_type": "stream",
     "text": [
      "square root of 1369: [ 37.]\n",
      "the square root squared: [ 1369.]\n"
     ]
    }
   ],
   "source": [
    "def ex3func(x):\n",
    "    return x**2 - 1369\n",
    "\n",
    "xzero = fsolve(ex3func, 1)\n",
    "print('square root of 1369:', xzero)\n",
    "print('the square root squared:', xzero**2)"
   ]
  },
  {
   "cell_type": "markdown",
   "metadata": {},
   "source": [
    " <a href=\"#back3\">Back to Exercise 3</a>"
   ]
  }
 ],
 "metadata": {
  "kernelspec": {
   "display_name": "Python 3",
   "language": "python",
   "name": "python3"
  },
  "language_info": {
   "codemirror_mode": {
    "name": "ipython",
    "version": 3
   },
   "file_extension": ".py",
   "mimetype": "text/x-python",
   "name": "python",
   "nbconvert_exporter": "python",
   "pygments_lexer": "ipython3",
   "version": "3.5.1"
  }
 },
 "nbformat": 4,
 "nbformat_minor": 0
}
