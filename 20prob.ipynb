{
 "cells": [
  {
   "cell_type": "markdown",
   "metadata": {},
   "source": [
    "# Lesson: Probability and Random Numbers"
   ]
  },
  {
   "cell_type": "code",
   "execution_count": null,
   "metadata": {
    "collapsed": false
   },
   "outputs": [],
   "source": [
    "import matplotlib.pyplot as plt\n",
    "import seaborn\n",
    "import numpy as np\n",
    "%matplotlib inline"
   ]
  },
  {
   "cell_type": "markdown",
   "metadata": {},
   "source": [
    "The `numpy.random` module contains several functions for generating random numbers. For example, we can use `np.random.random_integers(low, high)` to simulate rolling a die:"
   ]
  },
  {
   "cell_type": "code",
   "execution_count": null,
   "metadata": {
    "collapsed": false
   },
   "outputs": [],
   "source": [
    "print(\"I rolled a\", np.random.random_integers(1,6))"
   ]
  },
  {
   "cell_type": "markdown",
   "metadata": {},
   "source": [
    "If we invoke `random.randint` again, we get a different number:"
   ]
  },
  {
   "cell_type": "code",
   "execution_count": null,
   "metadata": {
    "collapsed": false
   },
   "outputs": [],
   "source": [
    "print(\"I rolled a\", np.random.random_integers(1,6))"
   ]
  },
  {
   "cell_type": "markdown",
   "metadata": {},
   "source": [
    "You can run the above cell repeatedly by pressing \\[ctrl\\]\\[enter\\] and verify that it indeed produces random numbers between 1 and 6.\n",
    "\n",
    "(Aside: These numbers aren't truly random; they're actually produced by something called a \"pseudo-random number generator\", which is a program that outputs a sequence of numbers designed to be hard to predict so that it looks random. You can read more about pseudo-random number generators on your own time, but for the rest of this class we can pretend that these numbers really are random.)\n",
    "\n",
    "We can combine random number generation with the programming constructs we've learned. For example, we can use `for i in range(number)` to roll a bunch of dice in a row:"
   ]
  },
  {
   "cell_type": "code",
   "execution_count": null,
   "metadata": {
    "collapsed": false
   },
   "outputs": [],
   "source": [
    "for i in range(20):\n",
    "    result = np.random.random_integers(1,6)\n",
    "    print(\"I rolled a\", result)"
   ]
  },
  {
   "cell_type": "markdown",
   "metadata": {},
   "source": [
    "So far we've used `np.random.random_integers`, but another useful function is `np.random.choice`, which takes a list of options and chooses one of them at random. For example, we can use it to flip coins instead of rolling dice:"
   ]
  },
  {
   "cell_type": "code",
   "execution_count": null,
   "metadata": {
    "collapsed": false
   },
   "outputs": [],
   "source": [
    "for i in range(20):\n",
    "    result = np.random.choice([\"Heads\", \"Tails\"])\n",
    "    print(result)"
   ]
  },
  {
   "cell_type": "markdown",
   "metadata": {},
   "source": [
    "### Exercise\n",
    "\n",
    "Following the examples above, use `random.randint` or `random.choice` to simulate something else: for example, rolling a 20-sided die, or spinning a spinner that can land on either red, green, or blue."
   ]
  },
  {
   "cell_type": "code",
   "execution_count": null,
   "metadata": {
    "collapsed": true
   },
   "outputs": [],
   "source": []
  },
  {
   "cell_type": "markdown",
   "metadata": {},
   "source": [
    "## Counting and summarizing results\n",
    "\n",
    "Let's say I want to answer the following question. If I flip two coins, what is the probability that both of them are heads?\n",
    "\n",
    "One approach to answering questions like these is to run repeated simulations: do it a bunch of times\n",
    "and count how many times both of them are heads. Here's a first attempt:"
   ]
  },
  {
   "cell_type": "code",
   "execution_count": null,
   "metadata": {
    "collapsed": false
   },
   "outputs": [],
   "source": [
    "for i in range(100):\n",
    "    first = np.random.choice([\"Heads\", \"Tails\"])\n",
    "    second = np.random.choice([\"Heads\", \"Tails\"])\n",
    "    if first == \"Heads\" and second == \"Heads\":\n",
    "        print(\"Both flips were heads!\")"
   ]
  },
  {
   "cell_type": "markdown",
   "metadata": {},
   "source": [
    "Notice that we used `for i in range(100)` above to do 100 trials, and `if` to test whether the two flips both returned heads. If they did, we print \"Both flips were heads!\" to the output -- so we can count how many of those there are and divide by 100 to estimate the probability (\"number of times it happened, divided by the total number of times we tried\").\n",
    "\n",
    "However, counting the results one by one can take a long time. Luckily, we can program our computers to do the counting as well as the simulating! We can do this by keeping the \"count so far\" in a variable, and adding to it every time it happens:"
   ]
  },
  {
   "cell_type": "code",
   "execution_count": null,
   "metadata": {
    "collapsed": false
   },
   "outputs": [],
   "source": [
    "count = 0\n",
    "for i in range(100):\n",
    "    first = np.random.choice([\"Heads\", \"Tails\"])\n",
    "    second = np.random.choice([\"Heads\", \"Tails\"])\n",
    "    if first == \"Heads\" and second == \"Heads\":\n",
    "        count = count + 1\n",
    "        \n",
    "print(\"Got both heads\", count, \"times out of 100\")\n",
    "print(\"Estimated probability:\", count/100)"
   ]
  },
  {
   "cell_type": "markdown",
   "metadata": {},
   "source": [
    "Now that we're making the computer count the results, it's feasible to do a bunch more trials (notice that the number 100 has been replaced with the variable `trials`, so that it's easy to change the number of trials by putting a different value):"
   ]
  },
  {
   "cell_type": "code",
   "execution_count": null,
   "metadata": {
    "collapsed": false
   },
   "outputs": [],
   "source": [
    "trials = 10000\n",
    "count = 0\n",
    "for i in range(trials):\n",
    "    first = np.random.choice([\"Heads\", \"Tails\"])\n",
    "    second = np.random.choice([\"Heads\", \"Tails\"])\n",
    "    if first == \"Heads\" and second == \"Heads\":\n",
    "        count = count + 1\n",
    "        \n",
    "print(\"Got both heads\", count, \"times out of\", trials)\n",
    "print(\"Estimated probability:\", count/trials)"
   ]
  },
  {
   "cell_type": "markdown",
   "metadata": {},
   "source": [
    "The more trials we do, the more likely that the answer we get is close to the true probability. Try running the above cell multiple times with \\[ctrl\\]\\[enter\\]: the results should be pretty close each time (and to the true answer, if you happen to know what it is)."
   ]
  },
  {
   "cell_type": "markdown",
   "metadata": {},
   "source": [
    "In addition to counting, we can also plot a histogram to visualize the distribution of results. We can do this by accumulating our results in a list and using `seaborn.countplot`:"
   ]
  },
  {
   "cell_type": "code",
   "execution_count": null,
   "metadata": {
    "collapsed": false
   },
   "outputs": [],
   "source": [
    "trials = 10000\n",
    "results = []\n",
    "for i in range(trials):\n",
    "    first = np.random.choice([\"Heads\", \"Tails\"])\n",
    "    second = np.random.choice([\"Heads\", \"Tails\"])\n",
    "    if first == \"Heads\" and second == \"Heads\":\n",
    "        results.append(\"Both Heads\")\n",
    "    else:\n",
    "        results.append(\"Other\")\n",
    " \n",
    "seaborn.countplot(results)"
   ]
  },
  {
   "cell_type": "markdown",
   "metadata": {},
   "source": [
    "Plots like this are good for displaying the results of many trials in a visual way, especially when there are more than two possible outcomes."
   ]
  },
  {
   "cell_type": "markdown",
   "metadata": {},
   "source": [
    "### Exercise\n",
    "\n",
    "Part 1: If I roll two dice, what is the probability that they add up to 10? Use repeated simulations to estimate this probability, following the examples above."
   ]
  },
  {
   "cell_type": "code",
   "execution_count": null,
   "metadata": {
    "collapsed": true
   },
   "outputs": [],
   "source": []
  },
  {
   "cell_type": "markdown",
   "metadata": {},
   "source": [
    "Part 2: Use `seaborn.countplot` to plot the results you get from adding up two dice. Is every possible result equally likely?"
   ]
  },
  {
   "cell_type": "code",
   "execution_count": null,
   "metadata": {
    "collapsed": true
   },
   "outputs": [],
   "source": []
  },
  {
   "cell_type": "markdown",
   "metadata": {},
   "source": [
    "## Extended example: the birthday paradox\n",
    "\n",
    "How many people can you put in a room until it's more likely than not that two of them have the same birthday? You might think it's around 365, the number of days in a year -- but you may be surprised!\n",
    "\n",
    "Let's investigate what happens if there are just 20 people in the room, and see how often it is that two of them share a birthday. To get you started, here's a function that generates random birthdays for N people (assuming there are 365 possibilities and they're all equally likely):"
   ]
  },
  {
   "cell_type": "code",
   "execution_count": null,
   "metadata": {
    "collapsed": true
   },
   "outputs": [],
   "source": [
    "def generate_birthdays(N):\n",
    "    result = []\n",
    "    for i in range(N):\n",
    "        birthday = np.random.random_integers(1,365)\n",
    "        result.append(birthday)\n",
    "    return result"
   ]
  },
  {
   "cell_type": "markdown",
   "metadata": {},
   "source": [
    "And here's a function that takes a list of numbers (birthdays) and tests to see whether any two of them are the same:"
   ]
  },
  {
   "cell_type": "code",
   "execution_count": null,
   "metadata": {
    "collapsed": true
   },
   "outputs": [],
   "source": [
    "def any_two_same(birthdays):\n",
    "    seen = set()\n",
    "    for birthday in birthdays:\n",
    "        if birthday in seen:\n",
    "            return True\n",
    "        seen.add(birthday)\n",
    "    return False"
   ]
  },
  {
   "cell_type": "markdown",
   "metadata": {},
   "source": [
    "Make sure you run the above two cells with \\[shift\\]\\[enter\\]; then you'll be able to use those functions like this:"
   ]
  },
  {
   "cell_type": "code",
   "execution_count": null,
   "metadata": {
    "collapsed": false
   },
   "outputs": [],
   "source": [
    "birthdays = generate_birthdays(20)\n",
    "print(\"Birthdays:\", birthdays)\n",
    "if any_two_same(birthdays):\n",
    "    print(\"Two people have the same birthday!\")"
   ]
  },
  {
   "cell_type": "markdown",
   "metadata": {},
   "source": [
    "If you like, you can re-run the above cell multiple times and see how many times you get the \"Two people have the same birthday!\" message. But as before, to get a real probability estimate, we'll want to do many repeated trials and count up the results."
   ]
  },
  {
   "cell_type": "markdown",
   "metadata": {},
   "source": [
    "### Exercise\n",
    "\n",
    "Part 1: Following the coin flip example from earlier, use 10000 trials to estimate the probability that in a room of 20 people, there are two people who share a birthday. (Hint: use the functions above; however, you shouldn't need to `print` anything.)"
   ]
  },
  {
   "cell_type": "code",
   "execution_count": null,
   "metadata": {
    "collapsed": true
   },
   "outputs": [],
   "source": []
  },
  {
   "cell_type": "markdown",
   "metadata": {},
   "source": [
    "Part 2: Now, try numbers other than 20 for the number of people in the room. What is the smallest number of people such that the \"birthday probability\" is bigger than 50%?"
   ]
  },
  {
   "cell_type": "code",
   "execution_count": null,
   "metadata": {
    "collapsed": true
   },
   "outputs": [],
   "source": []
  },
  {
   "cell_type": "markdown",
   "metadata": {},
   "source": [
    "## Optional challenge: poker probabilities\n",
    "\n",
    "Here's a function for drawing some cards from a deck. Here each card is represented as a number from 1 to 13 (we're assuming suits don't matter)."
   ]
  },
  {
   "cell_type": "code",
   "execution_count": null,
   "metadata": {
    "collapsed": true
   },
   "outputs": [],
   "source": [
    "deck = [rank for rank in range(1,14) for suit in range(4)]\n",
    "def draw_cards(n):\n",
    "    return np.random.permutation(deck)[:n]"
   ]
  },
  {
   "cell_type": "code",
   "execution_count": null,
   "metadata": {
    "collapsed": false
   },
   "outputs": [],
   "source": [
    "print(draw_cards(5))"
   ]
  },
  {
   "cell_type": "markdown",
   "metadata": {},
   "source": [
    "Using repeated simulations, can you estimate the probability that if you draw two cards, you get a pair (two of the same kind)? If you draw five cards, what is the probability that any two of them are a pair? What is the probability that you draw a 4-of-a-kind? A 5-card straight (5 numbers all in a row)?\n",
    "\n",
    "If you're good with probability, can you figure out the \"exact\" answers for any of these, and compare against your estimates?"
   ]
  },
  {
   "cell_type": "code",
   "execution_count": null,
   "metadata": {
    "collapsed": true
   },
   "outputs": [],
   "source": []
  }
 ],
 "metadata": {
  "kernelspec": {
   "display_name": "Python 3",
   "language": "python",
   "name": "python3"
  },
  "language_info": {
   "codemirror_mode": {
    "name": "ipython",
    "version": 3
   },
   "file_extension": ".py",
   "mimetype": "text/x-python",
   "name": "python",
   "nbconvert_exporter": "python",
   "pygments_lexer": "ipython3",
   "version": "3.5.1"
  }
 },
 "nbformat": 4,
 "nbformat_minor": 0
}
