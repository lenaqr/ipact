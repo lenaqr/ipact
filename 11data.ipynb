{
 "cells": [
  {
   "cell_type": "markdown",
   "metadata": {},
   "source": [
    "# Lesson: Lists, arrays, and basic `if`-statements"
   ]
  },
  {
   "cell_type": "markdown",
   "metadata": {},
   "source": [
    "## Lists\n",
    "\n",
    "A list is a sequence of values. You can create a list by entering the individual elements between square brackets:"
   ]
  },
  {
   "cell_type": "code",
   "execution_count": null,
   "metadata": {
    "collapsed": false
   },
   "outputs": [],
   "source": [
    "[1, 7, 2, 12]"
   ]
  },
  {
   "cell_type": "markdown",
   "metadata": {},
   "source": [
    "Lists have a length which you can get with `len`, which returns the number of values in the list:"
   ]
  },
  {
   "cell_type": "code",
   "execution_count": null,
   "metadata": {
    "collapsed": false
   },
   "outputs": [],
   "source": [
    "x = [1, 7, 2, 12]\n",
    "print('length of x:', len(x))"
   ]
  },
  {
   "cell_type": "markdown",
   "metadata": {},
   "source": [
    "The individual elements of an array can be accessed with their index. Indices start at 0. \n",
    "This may require a bit of getting used to. It means that the first value in the array has index 0. The index of an array is specified using square brackets."
   ]
  },
  {
   "cell_type": "code",
   "execution_count": null,
   "metadata": {
    "collapsed": false
   },
   "outputs": [],
   "source": [
    "x = [20, 21, 22, 23, 24, 25, 26, 27, 28, 29]\n",
    "print(x)\n",
    "print(x[0])\n",
    "print(x[5])"
   ]
  },
  {
   "cell_type": "markdown",
   "metadata": {},
   "source": [
    "You can also modify values in an array:"
   ]
  },
  {
   "cell_type": "code",
   "execution_count": null,
   "metadata": {
    "collapsed": false
   },
   "outputs": [],
   "source": [
    "x[1] = 40\n",
    "x[7] = 50\n",
    "print(x)"
   ]
  },
  {
   "cell_type": "markdown",
   "metadata": {},
   "source": [
    "Another way to create lists is to start with an empty list, `[]`, and append elements to it. This can be useful when we don't know what we're going to put in the list ahead of time, as we'll see later."
   ]
  },
  {
   "cell_type": "code",
   "execution_count": null,
   "metadata": {
    "collapsed": false
   },
   "outputs": [],
   "source": [
    "x = []\n",
    "print(x)\n",
    "x.append(4)\n",
    "print(x)\n",
    "x.append(3)\n",
    "x.append(7)\n",
    "x.append(5)\n",
    "print(x)"
   ]
  },
  {
   "cell_type": "markdown",
   "metadata": {},
   "source": [
    "Lists are versatile data types in Python. Lists can consist of a sequences of pretty much anything, not just numbers. In the example given below, `mylist` contains 5 *things*: the integer 1, the floating-point number 20, the word `python`, a list with the values 1,2,3, and finally, the function `len`. The latter means that `mylist[4]` is actually the function `len`. That function can be called to determine the length of a list as shown below. The latter may be a bit confusing, but it is cool behavior if you take the time to think about it."
   ]
  },
  {
   "cell_type": "code",
   "execution_count": null,
   "metadata": {
    "collapsed": false
   },
   "outputs": [],
   "source": [
    "mylist = [1, 20.0, \"python\", [1,2,3], len]\n",
    "print(mylist)\n",
    "print(mylist[0])\n",
    "print(mylist[2])\n",
    "print(mylist[4](mylist[3]))   # same as len( np.array([1,2,3]) )"
   ]
  },
  {
   "cell_type": "markdown",
   "metadata": {},
   "source": [
    "You can run a command for every item in a list using the `for` keyword:"
   ]
  },
  {
   "cell_type": "code",
   "execution_count": null,
   "metadata": {
    "collapsed": false
   },
   "outputs": [],
   "source": [
    "for item in [2, 3, 4]:\n",
    "    print(item, '+', item, '=', item + item)"
   ]
  },
  {
   "cell_type": "markdown",
   "metadata": {},
   "source": [
    "### Exercise\n",
    "\n",
    "Refer to the exercise in Lesson 1:\n",
    "\"Compute the value of $y=ax^2+bx+c$ at $x=-2$, $x=0$, and $x=2$ using $a=1$, $b=1$, $c=-6$.\"\n",
    "\n",
    "Modify your code to use `for x in [-2, 0, 2]:` instead of repeating the commands three times."
   ]
  },
  {
   "cell_type": "code",
   "execution_count": null,
   "metadata": {
    "collapsed": true
   },
   "outputs": [],
   "source": []
  },
  {
   "cell_type": "markdown",
   "metadata": {},
   "source": [
    "## One dimensional arrays\n",
    "\n",
    "The `numpy` package provides a number of functions for doing math on arrays. Arrays are another data type similar to lists, except that they can only contain numbers, and they are convenient to use in mathematical operations. A nice overview of `numpy` functionality can be found [here](http://wiki.scipy.org/Tentative_NumPy_Tutorial)."
   ]
  },
  {
   "cell_type": "code",
   "execution_count": null,
   "metadata": {
    "collapsed": false
   },
   "outputs": [],
   "source": [
    "import numpy as np"
   ]
  },
  {
   "cell_type": "markdown",
   "metadata": {},
   "source": [
    "There are many ways to create arrays. For example, you can convert a list of elements into an array"
   ]
  },
  {
   "cell_type": "code",
   "execution_count": null,
   "metadata": {
    "collapsed": false
   },
   "outputs": [],
   "source": [
    "np.array([1, 7, 2, 12])"
   ]
  },
  {
   "cell_type": "markdown",
   "metadata": {},
   "source": [
    "Another function to create an array is the already mentioned `linspace` function, and next to it is the `arange(start,end,step)` \n",
    "function, which creates an array starting at `start`, taking steps equal to `step` and stopping before it reaches `end`. If you don't specify the `step`, \n",
    "it is set equal to 1. If you only specify one input value, it returns a sequence starting at 0 and incrementing by 1 until the specified value is reached (but again, it stops before it reaches that value)"
   ]
  },
  {
   "cell_type": "code",
   "execution_count": null,
   "metadata": {
    "collapsed": false
   },
   "outputs": [],
   "source": [
    "print(np.arange(1, 7)) # Takes defauls steps of 1 and doesn't include 7\n",
    "print(np.arange(5)) # Starts at 0 end ends at 4, giving 5 numbers"
   ]
  },
  {
   "cell_type": "markdown",
   "metadata": {},
   "source": [
    "Recall that comments in Python are preceded by a `#`. \n",
    "You can get the length of an array and look up and modify items in it, just as with lists. In addition you can do mathematical operations on them the same way you do math on numbers, and it will apply the operation to every item in the array:"
   ]
  },
  {
   "cell_type": "code",
   "execution_count": null,
   "metadata": {
    "collapsed": false
   },
   "outputs": [],
   "source": [
    "x = np.array([1, 7, 2, 12])\n",
    "print('x:  ', x)\n",
    "print('x+2:', x+2)"
   ]
  },
  {
   "cell_type": "markdown",
   "metadata": {},
   "source": [
    "## Basic `if` statements\n",
    "An `if` statement lets you perform a task only when the outcome of the `if` statement is true. For example"
   ]
  },
  {
   "cell_type": "code",
   "execution_count": null,
   "metadata": {
    "collapsed": false
   },
   "outputs": [],
   "source": [
    "avalue = 4\n",
    "print(avalue)\n",
    "if avalue < 6:\n",
    "    print('changing avalue in first if statement')\n",
    "    avalue = avalue + 2\n",
    "print(avalue)\n",
    "if avalue > 20:\n",
    "    print('changing a in second if statement')\n",
    "    avalue = 200\n",
    "print(avalue)  # avalue hasn't changed as avalue is not larger than 20"
   ]
  },
  {
   "cell_type": "markdown",
   "metadata": {},
   "source": [
    "Notice the syntax of the `if` statement. It starts with `if` followed by a statement that is either `True` or `False` and then a colon. After the colon, you need to indent and the entire indented code block (in this case 2 lines of code) is executed if the statement is `True`. Otherwise it is not executed. The following comparisons can be made. Make sure you understand them all."
   ]
  },
  {
   "cell_type": "code",
   "execution_count": null,
   "metadata": {
    "collapsed": false
   },
   "outputs": [],
   "source": [
    "a = 4\n",
    "print(a < 4)\n",
    "print(a <= 4) # a is smaller than or equal to 4\n",
    "print(a == 4) # a is equal to 4. Note that there are 2 equal signs\n",
    "print(a >= 4)\n",
    "print(a >  4)\n",
    "print(a != 4) # a is not equal to 4"
   ]
  },
  {
   "cell_type": "markdown",
   "metadata": {},
   "source": [
    "It is important to understand the difference between one equal sign like `a = 4` and two equal signs like `a == 4`. One equal sign means assignment. Whatever is on the right side of the equal sign is assigned to what is on the left side of the equal sign. Two equal signs is a comparison and results in either `True` (when the left and right sides are equal) or `False`. A variable that can either be `True` or `False` is called a *boolean* variable. "
   ]
  },
  {
   "cell_type": "code",
   "execution_count": null,
   "metadata": {
    "collapsed": false
   },
   "outputs": [],
   "source": [
    "print(4 == 4)\n",
    "a = 4 == 5\n",
    "print(a)\n",
    "print(type(a))"
   ]
  }
 ],
 "metadata": {
  "kernelspec": {
   "display_name": "Python 3",
   "language": "python",
   "name": "python3"
  },
  "language_info": {
   "codemirror_mode": {
    "name": "ipython",
    "version": 3
   },
   "file_extension": ".py",
   "mimetype": "text/x-python",
   "name": "python",
   "nbconvert_exporter": "python",
   "pygments_lexer": "ipython3",
   "version": "3.5.1"
  }
 },
 "nbformat": 4,
 "nbformat_minor": 0
}
